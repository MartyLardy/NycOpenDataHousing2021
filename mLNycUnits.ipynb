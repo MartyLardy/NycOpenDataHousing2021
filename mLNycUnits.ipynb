{
 "cells": [
  {
   "cell_type": "markdown",
   "metadata": {},
   "source": [
    "Martin Liang<br>\n",
    "CST 2312<br>\n",
    "Project proposal<br>\n",
    "5/20/2021<br>"
   ]
  },
  {
   "cell_type": "markdown",
   "metadata": {},
   "source": [
    "<center> \n",
    "    <b>Individual Project</b><br> \n",
    "    <a href = \"https://opendata.cityofnewyork.us/\" \n",
    "       target = 'blank'>\n",
    "    <img src = \"https://opendata.cityofnewyork.us/wp-content/themes/opendata-wp/assets/img/nyc-open-data-logo.svg\" \n",
    "         width = \"50%\"></a>\n",
    "</center>"
   ]
  },
  {
   "cell_type": "markdown",
   "metadata": {},
   "source": [
    "I'll be using Data collected by <a href = \"https://opendata.cityofnewyork.us/data/\" target = 'blank'>NYC Open Data </a>.<br> In this study, I will be 'playing with' / analyzing <code>Housing & Development</code> who's <a href = \"https://data.cityofnewyork.us/Housing-Development/Housing-New-York-Units-by-Building/hg8x-zxpr\" target = 'blank'>\"Housing New York Units by Building\"</a>\n",
    "\n",
    "API link <code>https://data.cityofnewyork.us/resource/hg8x-zxpr.csv</code>.  We will be downloading the file as a '.CSV' <code>housingNYC.csv</code>\n",
    "into the local directory. We will be saving the file as <code>completeHousing.csv</code>\n",
    "\n",
    "<b>Important</b><br>\n",
    "However, If we're using the API link, only 1000 rows will be provide. Thus, I will be using <code>! curl https://data.cityofnewyork.us/api/views/hg8x-zxpr/rows.csv?accessType=DOWNLOAD</code> directly from the Export Feature from NYC OpenData that has the shape (5053, 41)\n"
   ]
  },
  {
   "cell_type": "markdown",
   "metadata": {},
   "source": [
    "The data is about:<br>\n",
    "The Department of Housing Preservation and Development (HPD) reports on buildings, units, and projects that began <b>after January 1, 2014 </b> and are counted towards the Housing New York plan. The Housing New York Units by Building file presents this data by building, and includes building-level data, such as house number, street name, BBL, and BIN for each building in a project. The unit counts are provided by building. For additional documentation, including a data dictionary, review the attachments in the “About this Dataset” section of the Primer landing page.\n"
   ]
  },
  {
   "cell_type": "code",
   "execution_count": 1,
   "metadata": {},
   "outputs": [
    {
     "name": "stderr",
     "output_type": "stream",
     "text": [
      "  % Total    % Received % Xferd  Average Speed   Time    Time     Time  Current\n",
      "                                 Dload  Upload   Total   Spent    Left  Speed\n",
      "\n",
      "  0     0    0     0    0     0      0      0 --:--:-- --:--:-- --:--:--     0\n",
      "  0     0    0     0    0     0      0      0 --:--:-- --:--:-- --:--:--     0\n",
      "100 97441    0 97441    0     0  83425      0 --:--:--  0:00:01 --:--:-- 83354\n",
      "100 1153k    0 1153k    0     0   714k      0 --:--:--  0:00:01 --:--:--  714k\n"
     ]
    }
   ],
   "source": [
    "!curl https://data.cityofnewyork.us/api/views/hg8x-zxpr/rows.csv?accessType=DOWNLOAD -o completeHousing.csv\n"
   ]
  },
  {
   "cell_type": "code",
   "execution_count": 2,
   "metadata": {},
   "outputs": [],
   "source": [
    "import pandas as pd\n",
    "import numpy as np\n",
    "import matplotlib.pyplot as plt \n",
    "%matplotlib inline"
   ]
  },
  {
   "cell_type": "code",
   "execution_count": 3,
   "metadata": {},
   "outputs": [],
   "source": [
    "nycDf = pd.read_csv('completeHousing.csv')"
   ]
  },
  {
   "cell_type": "markdown",
   "metadata": {},
   "source": [
    "As you can see, I will have three or more different data types <code> int64, object('string'), float64, and dates."
   ]
  },
  {
   "cell_type": "code",
   "execution_count": 4,
   "metadata": {},
   "outputs": [],
   "source": [
    "pd.set_option('display.max_columns', None)\n",
    "pd.set_option('display.max_rows', None)"
   ]
  },
  {
   "cell_type": "code",
   "execution_count": 5,
   "metadata": {},
   "outputs": [
    {
     "data": {
      "text/plain": [
       "(5053, 41)"
      ]
     },
     "execution_count": 5,
     "metadata": {},
     "output_type": "execute_result"
    }
   ],
   "source": [
    "nycDf.shape"
   ]
  },
  {
   "cell_type": "markdown",
   "metadata": {},
   "source": [
    "Explaination:<br>\n",
    "\n",
    "I have decided to use this set of data to show the broad understanding of NYC's city planning.  I am also interested in where the lower_income_units are concentrated and in which District/Borough they are in. On the other hand, I would like to know where the middle income bracket is located and which District and Borough they are in. As a person who enjoys Real Estate, I find this Dataset helpful with which areas have Higer Value than others. And a helpful tool to find the 'up and coming' areas.\n"
   ]
  },
  {
   "cell_type": "markdown",
   "metadata": {},
   "source": [
    "Questions: \n",
    "<ol>\n",
    "    <li> Number of Project per year (w/line plot)\n",
    "    <li> Top 5 Projects with the most <b>extremly_low_income_units</b> w/ building number, address, borough and council district\n",
    "    <li> Top 5 Projects with the most <b>very_low_income_units</b> w/ building number, address, borough and council district\n",
    "    <li> Top 5 Projects with the most <b>low_income_units</b> w/ building number, address, borough and council district\n",
    "    <li> Total Sum Of New Construction (2014-2021) for Extreme Low Income Units, Very Low Income Units, and Low Income Units by Bourough and Council District\n",
    "    <li> Top 5 Projects with the most <b>Moderate Income Units</b>. w/ building number, address, borough and council district\n",
    "    <li> Top 5 Projects with the most <b>Middle Income Units</b>. w/ building number, address, borough and council district\n",
    "    <li> Top 5 Projects with the most <b>Other Income Units</b>. w/ building number, address, borough and council district\n",
    "    <li> Total Sum of each New Construction (2014-2021) for Moderate, Middle, and Other Incomes\n",
    "    <li> Ratio of sum(extrem, very_low, low_income) vs sum(moderate, middle,other)\n",
    "    <li> Total Number of Preservations in New York City, and of New Construction in the City.\n",
    "    <li> Which area shows the most low-income units, vs area with the least low_income_units. <br>\n",
    "        \n",
    "</ol>\n"
   ]
  },
  {
   "cell_type": "markdown",
   "metadata": {},
   "source": [
    "After completing this project, i hope people will see the broad picture of NYC's City Planning, income distribution, and which areas have the most and least amout of low_income to middle_higher_income units, and which districts have the most middle_high_income to low_income projects."
   ]
  },
  {
   "cell_type": "markdown",
   "metadata": {},
   "source": [
    "<center><img src = \"https://www1.nyc.gov/assets/hpd/images/content/pages/affordable-housing-income-eligibility-2021.jpg\" width = \"80%\"></center>\n"
   ]
  },
  {
   "cell_type": "markdown",
   "metadata": {},
   "source": [
    "### Lets get started"
   ]
  },
  {
   "cell_type": "markdown",
   "metadata": {},
   "source": [
    "<b>Problem 1)</b><br> Lets first take a look at how many Projects will start in each year."
   ]
  },
  {
   "cell_type": "code",
   "execution_count": 6,
   "metadata": {},
   "outputs": [],
   "source": [
    "nycDf['Project Start Date'] = pd.to_datetime(nycDf['Project Start Date'])"
   ]
  },
  {
   "cell_type": "code",
   "execution_count": 7,
   "metadata": {},
   "outputs": [],
   "source": [
    "project_by_year = nycDf['Project Start Date'].dt.year\n",
    "nycDf['Year'] = project_by_year"
   ]
  },
  {
   "cell_type": "code",
   "execution_count": 8,
   "metadata": {},
   "outputs": [
    {
     "data": {
      "image/png": "[encoded data removed]",
      "text/plain": [
       "<Figure size 432x288 with 1 Axes>"
      ]
     },
     "metadata": {
      "needs_background": "light"
     },
     "output_type": "display_data"
    }
   ],
   "source": [
    "byYearGraph = nycDf['Year'].value_counts().sort_index().plot(xlabel = \"year\", ylabel = \"number of projects started\")"
   ]
  },
  {
   "cell_type": "markdown",
   "metadata": {},
   "source": [
    "Note: As we can see, there is a sideways movemeint of number of projects started from 2014 to 2018. A steady increase from 2018-2019 and a major decline in 2020 to 2021. "
   ]
  },
  {
   "cell_type": "code",
   "execution_count": 9,
   "metadata": {},
   "outputs": [
    {
     "name": "stdout",
     "output_type": "stream",
     "text": [
      "The total protential units outputted from 2014-2021 in NYC is: 227,746 units\n"
     ]
    }
   ],
   "source": [
    "totalUnitsBuilt = (sum(nycDf[\"Total Units\"]))\n",
    "print(f\"The total protential units outputted from 2014-2021 in NYC is: {totalUnitsBuilt:,} units\")"
   ]
  },
  {
   "cell_type": "markdown",
   "metadata": {},
   "source": [
    "<b>Problem 2)</b><br> Top 5 Projects with the most <b>extremly_low_income_units</b> w/ building number, borough and council district"
   ]
  },
  {
   "cell_type": "code",
   "execution_count": 10,
   "metadata": {},
   "outputs": [
    {
     "name": "stdout",
     "output_type": "stream",
     "text": [
      "Projects with the most 'Extreme Low Income Units':\n",
      "\n",
      "      Extremely Low Income Units Number           Street        Borough  \\\n",
      "4393                         429     85   HOLLAND AVENUE  Staten Island   \n",
      "225                          314     90     SANDS STREET       Brooklyn   \n",
      "1534                         250   3528   MERMAID AVENUE       Brooklyn   \n",
      "1993                         247   3000  BRONX PARK EAST          Bronx   \n",
      "1882                         241    222   EAST 93 STREET      Manhattan   \n",
      "\n",
      "      Council District  \n",
      "4393              49.0  \n",
      "225               33.0  \n",
      "1534              47.0  \n",
      "1993              15.0  \n",
      "1882               5.0  \n"
     ]
    }
   ],
   "source": [
    "extremeLowIncomeDf = pd.DataFrame(nycDf, columns=[\"Extremely Low Income Units\",\"Number\", \"Street\", \"Borough\",\"Council District\"])\n",
    "topFiveDf1 = extremeLowIncomeDf.nlargest(columns='Extremely Low Income Units', n = 5)\n",
    "print(f\"Projects with the most 'Extreme Low Income Units':\\n\\n{topFiveDf1}\")"
   ]
  },
  {
   "cell_type": "markdown",
   "metadata": {},
   "source": [
    "<b>Problem 3)</b><br> Top 5 Projects with the most <b>very_low_income_units</b> w/ building number, address, postal code, borough and council district "
   ]
  },
  {
   "cell_type": "code",
   "execution_count": 11,
   "metadata": {},
   "outputs": [
    {
     "name": "stdout",
     "output_type": "stream",
     "text": [
      "Projects with the most 'Very Low Income Units':\n",
      "\n",
      "     Very Low Income Units Number            Street    Borough  \\\n",
      "950                    352   2070          1 AVENUE  Manhattan   \n",
      "952                    327   2090          1 AVENUE  Manhattan   \n",
      "154                    326    333  LAFAYETTE AVENUE   Brooklyn   \n",
      "953                    326   2116          1 AVENUE  Manhattan   \n",
      "951                    310    420   EAST 111 STREET  Manhattan   \n",
      "\n",
      "     Council District  \n",
      "950               8.0  \n",
      "952               8.0  \n",
      "154              35.0  \n",
      "953               8.0  \n",
      "951               8.0  \n"
     ]
    }
   ],
   "source": [
    "veryLowIncomeDf = pd.DataFrame(nycDf, columns=[\"Very Low Income Units\",\"Number\", \"Street\", \"Borough\",\"Council District\"])\n",
    "VeryLowTopFiveDf1 = veryLowIncomeDf.nlargest(columns='Very Low Income Units', n = 5)\n",
    "print(f\"Projects with the most 'Very Low Income Units':\\n\\n{VeryLowTopFiveDf1}\")"
   ]
  },
  {
   "cell_type": "markdown",
   "metadata": {},
   "source": [
    "<b>Problem 4)</b><br>Top 5 Projects with the most <b>low_income_units</b> w/ building number, address, postal code, borough and council district"
   ]
  },
  {
   "cell_type": "code",
   "execution_count": 12,
   "metadata": {},
   "outputs": [
    {
     "name": "stdout",
     "output_type": "stream",
     "text": [
      "Projects with the most 'Low Income Units':\n",
      "\n",
      "      Low Income Units  Number                      Street    Borough  \\\n",
      "4767               536    2010            VALENTINE AVENUE      Bronx   \n",
      "2719               492     255             EAST 149 STREET      Bronx   \n",
      "2232               454      20  WEST MOSHOLU PARKWAY SOUTH      Bronx   \n",
      "2264               454  11-Jul              SEAGIRT AVENUE     Queens   \n",
      "3137               415      10              EAST 28 STREET  Manhattan   \n",
      "\n",
      "      Council District  \n",
      "4767              15.0  \n",
      "2719              17.0  \n",
      "2232              11.0  \n",
      "2264              31.0  \n",
      "3137               2.0  \n"
     ]
    }
   ],
   "source": [
    "lowIncomeDf = pd.DataFrame(nycDf, columns=[\"Low Income Units\", \"Number\", \"Street\", \"Borough\",\"Council District\"])\n",
    "lowTopFiveDf1 = lowIncomeDf.nlargest(columns='Low Income Units', n = 5)\n",
    "\n",
    "print(f\"Projects with the most 'Low Income Units':\\n\\n{lowTopFiveDf1}\")"
   ]
  },
  {
   "cell_type": "markdown",
   "metadata": {},
   "source": [
    "<b>Problem 5)</b></br> Total Sum Of New Construction (2014-2021) for Extreme, Low , Very Low Income Units, by Bourough"
   ]
  },
  {
   "cell_type": "code",
   "execution_count": 13,
   "metadata": {},
   "outputs": [
    {
     "data": {
      "text/html": [
       "<div>\n",
       "<style scoped>\n",
       "    .dataframe tbody tr th:only-of-type {\n",
       "        vertical-align: middle;\n",
       "    }\n",
       "\n",
       "    .dataframe tbody tr th {\n",
       "        vertical-align: top;\n",
       "    }\n",
       "\n",
       "    .dataframe thead th {\n",
       "        text-align: right;\n",
       "    }\n",
       "</style>\n",
       "<table border=\"1\" class=\"dataframe\">\n",
       "  <thead>\n",
       "    <tr style=\"text-align: right;\">\n",
       "      <th></th>\n",
       "      <th>Extremely Low Income Units</th>\n",
       "      <th>Low Income Units</th>\n",
       "      <th>Very Low Income Units</th>\n",
       "    </tr>\n",
       "    <tr>\n",
       "      <th>Borough</th>\n",
       "      <th></th>\n",
       "      <th></th>\n",
       "      <th></th>\n",
       "    </tr>\n",
       "  </thead>\n",
       "  <tbody>\n",
       "    <tr>\n",
       "      <th>Bronx</th>\n",
       "      <td>10755</td>\n",
       "      <td>27384</td>\n",
       "      <td>22017</td>\n",
       "    </tr>\n",
       "    <tr>\n",
       "      <th>Brooklyn</th>\n",
       "      <td>7037</td>\n",
       "      <td>22171</td>\n",
       "      <td>10971</td>\n",
       "    </tr>\n",
       "    <tr>\n",
       "      <th>Manhattan</th>\n",
       "      <td>7922</td>\n",
       "      <td>14016</td>\n",
       "      <td>12757</td>\n",
       "    </tr>\n",
       "    <tr>\n",
       "      <th>Queens</th>\n",
       "      <td>2383</td>\n",
       "      <td>6185</td>\n",
       "      <td>3612</td>\n",
       "    </tr>\n",
       "    <tr>\n",
       "      <th>Staten Island</th>\n",
       "      <td>953</td>\n",
       "      <td>1184</td>\n",
       "      <td>278</td>\n",
       "    </tr>\n",
       "    <tr>\n",
       "      <th>Total Sum</th>\n",
       "      <td>29050</td>\n",
       "      <td>70940</td>\n",
       "      <td>49635</td>\n",
       "    </tr>\n",
       "  </tbody>\n",
       "</table>\n",
       "</div>"
      ],
      "text/plain": [
       "               Extremely Low Income Units  Low Income Units  \\\n",
       "Borough                                                       \n",
       "Bronx                               10755             27384   \n",
       "Brooklyn                             7037             22171   \n",
       "Manhattan                            7922             14016   \n",
       "Queens                               2383              6185   \n",
       "Staten Island                         953              1184   \n",
       "Total Sum                           29050             70940   \n",
       "\n",
       "               Very Low Income Units  \n",
       "Borough                               \n",
       "Bronx                          22017  \n",
       "Brooklyn                       10971  \n",
       "Manhattan                      12757  \n",
       "Queens                          3612  \n",
       "Staten Island                    278  \n",
       "Total Sum                      49635  "
      ]
     },
     "execution_count": 13,
     "metadata": {},
     "output_type": "execute_result"
    }
   ],
   "source": [
    "num_of_total_units = nycDf[\"Extremely Low Income Units\"] + nycDf[\"Very Low Income Units\"] + nycDf[\"Low Income Units\"]\n",
    "nycDf[\"Total All Low Income\"] = num_of_total_units\n",
    "\n",
    "total_count = pd.pivot_table(nycDf, \n",
    "                             values = [\"Extremely Low Income Units\",\"Very Low Income Units\",\"Low Income Units\"],\n",
    "                             index = [\"Borough\"],\n",
    "                             aggfunc=\"sum\", \n",
    "                             margins = True,\n",
    "                             margins_name=\"Total Sum\")\n",
    "total_count"
   ]
  },
  {
   "cell_type": "code",
   "execution_count": 14,
   "metadata": {},
   "outputs": [
    {
     "data": {
      "text/plain": [
       "<AxesSubplot:xlabel='Borough'>"
      ]
     },
     "execution_count": 14,
     "metadata": {},
     "output_type": "execute_result"
    },
    {
     "data": {
      "image/png": "[encoded data removed]",
      "text/plain": [
       "<Figure size 432x288 with 1 Axes>"
      ]
     },
     "metadata": {
      "needs_background": "light"
     },
     "output_type": "display_data"
    }
   ],
   "source": [
    "total_count.plot(kind = \"bar\")"
   ]
  },
  {
   "cell_type": "code",
   "execution_count": 15,
   "metadata": {},
   "outputs": [
    {
     "name": "stdout",
     "output_type": "stream",
     "text": [
      "Total New Construction of Extreme, Very, and Low Income Housing from (2014-2021): 149,625 units\n"
     ]
    }
   ],
   "source": [
    "lowTotalSum = sum((nycDf[\"Extremely Low Income Units\"] + nycDf[\"Very Low Income Units\"]+ nycDf[\"Low Income Units\"]))\n",
    "print(f\"Total New Construction of Extreme, Very, and Low Income Housing from (2014-2021): {lowTotalSum:,} units\")"
   ]
  },
  {
   "cell_type": "code",
   "execution_count": 16,
   "metadata": {},
   "outputs": [
    {
     "data": {
      "text/plain": [
       "<AxesSubplot:xlabel='Borough,Council District'>"
      ]
     },
     "execution_count": 16,
     "metadata": {},
     "output_type": "execute_result"
    },
    {
     "data": {
      "image/png": "[encoded data removed]",
      "text/plain": [
       "<Figure size 1440x432 with 1 Axes>"
      ]
     },
     "metadata": {
      "needs_background": "light"
     },
     "output_type": "display_data"
    }
   ],
   "source": [
    "total_count_district = pd.pivot_table(nycDf, \n",
    "                             values = [\"Extremely Low Income Units\",\"Very Low Income Units\",\"Low Income Units\"],\n",
    "                             index = [\"Borough\", 'Council District'],\n",
    "                             aggfunc=\"sum\")\n",
    "total_count_district.plot(kind = \"bar\", figsize = (20,6))"
   ]
  },
  {
   "cell_type": "markdown",
   "metadata": {},
   "source": [
    "<b>Problem 6)</b> Top 5 Projects with the most <b>Moderate Income</b> Units. w/ building number, address, postal code, borough and council district"
   ]
  },
  {
   "cell_type": "code",
   "execution_count": 17,
   "metadata": {},
   "outputs": [
    {
     "name": "stdout",
     "output_type": "stream",
     "text": [
      "Projects with the most 'Moderate Income Units':\n",
      "\n",
      "      Moderate Income Units  Number                 Street    Borough  \\\n",
      "2264                    454  11-Jul         SEAGIRT AVENUE     Queens   \n",
      "3592                    358     233  THOMAS BOYLAND STREET   Brooklyn   \n",
      "3593                    358     214        ROCKAWAY AVENUE   Brooklyn   \n",
      "4141                    297    2289               5 AVENUE  Manhattan   \n",
      "826                     228    1982       LEXINGTON AVENUE  Manhattan   \n",
      "\n",
      "      Council District  \n",
      "2264              31.0  \n",
      "3592              41.0  \n",
      "3593              41.0  \n",
      "4141               9.0  \n",
      "826                9.0  \n"
     ]
    }
   ],
   "source": [
    "modToHigherIncomeDf = pd.DataFrame(nycDf, columns=[\"Moderate Income Units\", \"Number\", \"Street\", \"Borough\",\"Council District\"])\n",
    "modToHighTopFiveDf1 = modToHigherIncomeDf.nlargest(columns='Moderate Income Units', n = 5)\n",
    "\n",
    "print(f\"Projects with the most 'Moderate Income Units':\\n\\n{modToHighTopFiveDf1}\")"
   ]
  },
  {
   "cell_type": "markdown",
   "metadata": {},
   "source": [
    "<b>Problem 7)</b> Top 5 Projects with the most <b>Middle Income</b> Units. w/ building number, address, postal code, borough and council district"
   ]
  },
  {
   "cell_type": "code",
   "execution_count": 18,
   "metadata": {},
   "outputs": [
    {
     "name": "stdout",
     "output_type": "stream",
     "text": [
      "Projects with the most 'Mid Income Units':\n",
      "\n",
      "      Middle Income Units  Number           Street   Borough  Council District\n",
      "2970                  448  147-40    ARCHER AVENUE    Queens              27.0\n",
      "4768                  422      79     CLARK STREET  Brooklyn              33.0\n",
      "2986                  352    3400      PAUL AVENUE     Bronx              11.0\n",
      "4584                  343     353  BEACH 57 STREET    Queens              31.0\n",
      "45                    337   22-44   JACKSON AVENUE    Queens              26.0\n"
     ]
    }
   ],
   "source": [
    "midToHigherIncomeDf = pd.DataFrame(nycDf, columns=[\"Middle Income Units\", \"Number\", \"Street\", \"Borough\",\"Council District\"])\n",
    "midToHighTopFiveDf1 = midToHigherIncomeDf.nlargest(columns='Middle Income Units', n = 5)\n",
    "\n",
    "print(f\"Projects with the most 'Mid Income Units':\\n\\n{midToHighTopFiveDf1}\")"
   ]
  },
  {
   "cell_type": "markdown",
   "metadata": {},
   "source": [
    "<b>Problem 8)</b>Top 5 Projects with the most <b>Other Income</b> Units. w/ building number, address, postal code, borough and council district"
   ]
  },
  {
   "cell_type": "code",
   "execution_count": 19,
   "metadata": {},
   "outputs": [
    {
     "data": {
      "text/html": [
       "<div>\n",
       "<style scoped>\n",
       "    .dataframe tbody tr th:only-of-type {\n",
       "        vertical-align: middle;\n",
       "    }\n",
       "\n",
       "    .dataframe tbody tr th {\n",
       "        vertical-align: top;\n",
       "    }\n",
       "\n",
       "    .dataframe thead th {\n",
       "        text-align: right;\n",
       "    }\n",
       "</style>\n",
       "<table border=\"1\" class=\"dataframe\">\n",
       "  <thead>\n",
       "    <tr style=\"text-align: right;\">\n",
       "      <th></th>\n",
       "      <th>Middle Income Units</th>\n",
       "      <th>Moderate Income Units</th>\n",
       "      <th>Other Income Units</th>\n",
       "    </tr>\n",
       "    <tr>\n",
       "      <th>Borough</th>\n",
       "      <th></th>\n",
       "      <th></th>\n",
       "      <th></th>\n",
       "    </tr>\n",
       "  </thead>\n",
       "  <tbody>\n",
       "    <tr>\n",
       "      <th>Bronx</th>\n",
       "      <td>1114</td>\n",
       "      <td>2262</td>\n",
       "      <td>346</td>\n",
       "    </tr>\n",
       "    <tr>\n",
       "      <th>Brooklyn</th>\n",
       "      <td>4876</td>\n",
       "      <td>2559</td>\n",
       "      <td>208</td>\n",
       "    </tr>\n",
       "    <tr>\n",
       "      <th>Manhattan</th>\n",
       "      <td>8453</td>\n",
       "      <td>4436</td>\n",
       "      <td>195</td>\n",
       "    </tr>\n",
       "    <tr>\n",
       "      <th>Queens</th>\n",
       "      <td>2956</td>\n",
       "      <td>2203</td>\n",
       "      <td>47</td>\n",
       "    </tr>\n",
       "    <tr>\n",
       "      <th>Staten Island</th>\n",
       "      <td>37</td>\n",
       "      <td>49</td>\n",
       "      <td>9</td>\n",
       "    </tr>\n",
       "    <tr>\n",
       "      <th>Total Sum</th>\n",
       "      <td>17436</td>\n",
       "      <td>11509</td>\n",
       "      <td>805</td>\n",
       "    </tr>\n",
       "  </tbody>\n",
       "</table>\n",
       "</div>"
      ],
      "text/plain": [
       "               Middle Income Units  Moderate Income Units  Other Income Units\n",
       "Borough                                                                      \n",
       "Bronx                         1114                   2262                 346\n",
       "Brooklyn                      4876                   2559                 208\n",
       "Manhattan                     8453                   4436                 195\n",
       "Queens                        2956                   2203                  47\n",
       "Staten Island                   37                     49                   9\n",
       "Total Sum                    17436                  11509                 805"
      ]
     },
     "execution_count": 19,
     "metadata": {},
     "output_type": "execute_result"
    }
   ],
   "source": [
    "numOfTotalMidUnits = nycDf[\"Moderate Income Units\"] + nycDf[\"Middle Income Units\"] + nycDf[\"Other Income Units\"]\n",
    "\n",
    "nycDf[\"Total All Mid Income\"] = numOfTotalMidUnits\n",
    "\n",
    "midTotalCount = pd.pivot_table(nycDf, \n",
    "                             values = [\"Moderate Income Units\",\"Middle Income Units\",\"Other Income Units\"],\n",
    "                             index = [\"Borough\"],\n",
    "                             aggfunc=\"sum\", \n",
    "                             margins = True,\n",
    "                             margins_name=\"Total Sum\")\n",
    "midTotalCount"
   ]
  },
  {
   "cell_type": "code",
   "execution_count": 20,
   "metadata": {},
   "outputs": [
    {
     "data": {
      "text/plain": [
       "<AxesSubplot:xlabel='Borough'>"
      ]
     },
     "execution_count": 20,
     "metadata": {},
     "output_type": "execute_result"
    },
    {
     "data": {
      "image/png": "[encoded data removed]",
      "text/plain": [
       "<Figure size 432x288 with 1 Axes>"
      ]
     },
     "metadata": {
      "needs_background": "light"
     },
     "output_type": "display_data"
    }
   ],
   "source": [
    "midTotalCount.plot(kind = \"bar\")"
   ]
  },
  {
   "cell_type": "code",
   "execution_count": 21,
   "metadata": {},
   "outputs": [
    {
     "name": "stdout",
     "output_type": "stream",
     "text": [
      "Total New Construction of Moderate, Middle, and Other Income Housing from (2014-2021): 29,750 units\n"
     ]
    }
   ],
   "source": [
    "midTotalSum = sum((nycDf[\"Moderate Income Units\"] + nycDf[\"Middle Income Units\"]+ nycDf[\"Other Income Units\"]))\n",
    "print(f\"Total New Construction of Moderate, Middle, and Other Income Housing from (2014-2021): {midTotalSum:,} units\")"
   ]
  },
  {
   "cell_type": "code",
   "execution_count": 22,
   "metadata": {},
   "outputs": [
    {
     "data": {
      "text/plain": [
       "<AxesSubplot:xlabel='Borough,Council District'>"
      ]
     },
     "execution_count": 22,
     "metadata": {},
     "output_type": "execute_result"
    },
    {
     "data": {
      "image/png": "[encoded data removed]",
      "text/plain": [
       "<Figure size 1440x432 with 1 Axes>"
      ]
     },
     "metadata": {
      "needs_background": "light"
     },
     "output_type": "display_data"
    }
   ],
   "source": [
    "midTotalCountDistrict = pd.pivot_table(nycDf, \n",
    "                             values = [\"Moderate Income Units\",\"Middle Income Units\",\"Other Income Units\"],\n",
    "                             index = [\"Borough\", 'Council District'],\n",
    "                             aggfunc=\"sum\")\n",
    "midTotalCountDistrict.plot(kind = \"bar\", figsize = (20,6))"
   ]
  },
  {
   "cell_type": "markdown",
   "metadata": {},
   "source": [
    "<b>Problem 10)</b> Ratio of sum(extrem, very_low, low_income) vs sum(moderate, middle,other)"
   ]
  },
  {
   "cell_type": "code",
   "execution_count": 24,
   "metadata": {},
   "outputs": [
    {
     "data": {
      "image/png": "[encoded data removed]",
      "text/plain": [
       "<Figure size 432x288 with 1 Axes>"
      ]
     },
     "metadata": {},
     "output_type": "display_data"
    }
   ],
   "source": [
    "aggregateLowerIncome = sum(nycDf[\"Extremely Low Income Units\"] + nycDf[\"Very Low Income Units\"] + nycDf[\"Low Income Units\"])\n",
    "aggregateModerateIncome = sum(nycDf[\"Moderate Income Units\"] + nycDf[\"Middle Income Units\"] + nycDf[\"Other Income Units\"])\n",
    "\n",
    "incomeLabels = [\"aggregateLowerIncome\", \"aggregateModerateIncome\"]\n",
    "incomeColors = ['#ff0000','#66ff00']\n",
    "\n",
    "plt.pie([aggregateLowerIncome,aggregateModerateIncome], labels=incomeLabels, colors = incomeColors, autopct = '%.2f')\n",
    "plt.show()\n"
   ]
  },
  {
   "cell_type": "markdown",
   "metadata": {},
   "source": [
    "<b>Problem 11)</b> Total Number of Preservations in New York City, and of New Construction in the City."
   ]
  },
  {
   "cell_type": "code",
   "execution_count": 25,
   "metadata": {},
   "outputs": [
    {
     "data": {
      "image/png": "[encoded data removed]",
      "text/plain": [
       "<Figure size 432x288 with 1 Axes>"
      ]
     },
     "metadata": {},
     "output_type": "display_data"
    }
   ],
   "source": [
    "preservations = nycDf.loc[nycDf[\"Reporting Construction Type\"] == \"Preservation\"].count()[0]\n",
    "newConstruction = nycDf.loc[nycDf[\"Reporting Construction Type\"] == \"New Construction\"].count()[0]\n",
    "\n",
    "constLabels = ['preservations', 'newConstruction']\n",
    "\n",
    "\n",
    "plt.pie([preservations,newConstruction], labels = constLabels, autopct= \"%.2f\" )\n",
    "plt.show()"
   ]
  },
  {
   "cell_type": "markdown",
   "metadata": {},
   "source": [
    "<b>Problem: 12) Conclusion:</b> Which area shows the most low-income units, vs area with the least low_income_units?<br><br>\n",
    "The Bronx 12th and 17th Council District has the most Extreme, Very, and Low Income Units<br>\n",
    "Manhattan 4th and 8th Council District has the most Moderate, Middle, and Other Income Units <br>\n",
    "\n",
    "I hope this data provides people adequate knowledge of where the highest concentration of newly developed income zones are around the NYC area.<br>\n",
    "This data can help people find areas based off their income levels, or future real estate preperation<br>"
   ]
  }
 ],
 "metadata": {
  "kernelspec": {
   "display_name": "Python 3",
   "language": "python",
   "name": "python3"
  },
  "language_info": {
   "codemirror_mode": {
    "name": "ipython",
    "version": 3
   },
   "file_extension": ".py",
   "mimetype": "text/x-python",
   "name": "python",
   "nbconvert_exporter": "python",
   "pygments_lexer": "ipython3",
   "version": "3.8.8"
  }
 },
 "nbformat": 4,
 "nbformat_minor": 4
}
